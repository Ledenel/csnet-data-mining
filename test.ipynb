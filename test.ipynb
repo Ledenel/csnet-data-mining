{
 "nbformat": 4,
 "nbformat_minor": 2,
 "metadata": {
  "language_info": {
   "name": "python",
   "codemirror_mode": {
    "name": "ipython",
    "version": 3
   },
   "version": "3.6.10-final"
  },
  "orig_nbformat": 2,
  "file_extension": ".py",
  "mimetype": "text/x-python",
  "name": "python",
  "npconvert_exporter": "python",
  "pygments_lexer": "ipython3",
  "version": 3,
  "kernelspec": {
   "name": "python361064bitcsnetdatacondadab4bd931da547a8b28ca2d7f66b36cb",
   "display_name": "Python 3.6.10 64-bit ('csnet-data': conda)"
  }
 },
 "cells": [
  {
   "cell_type": "code",
   "execution_count": 3,
   "metadata": {},
   "outputs": [
    {
     "output_type": "stream",
     "name": "stdout",
     "text": "file data/go/go/final/jsonl/test/go_test_0.jsonl.gz has 14291 lines\nfile data/go/go/final/jsonl/train/go_train_0.jsonl.gz has 30000 lines\nfile data/go/go/final/jsonl/train/go_train_1.jsonl.gz has 30000 lines\nfile data/go/go/final/jsonl/train/go_train_10.jsonl.gz has 17832 lines\nfile data/go/go/final/jsonl/train/go_train_2.jsonl.gz has 30000 lines\nfile data/go/go/final/jsonl/train/go_train_3.jsonl.gz has 30000 lines\nfile data/go/go/final/jsonl/train/go_train_4.jsonl.gz has 30000 lines\nfile data/go/go/final/jsonl/train/go_train_5.jsonl.gz has 30000 lines\nfile data/go/go/final/jsonl/train/go_train_6.jsonl.gz has 30000 lines\nfile data/go/go/final/jsonl/train/go_train_7.jsonl.gz has 30000 lines\nfile data/go/go/final/jsonl/train/go_train_8.jsonl.gz has 30000 lines\nfile data/go/go/final/jsonl/train/go_train_9.jsonl.gz has 30000 lines\nfile data/go/go/final/jsonl/valid/go_valid_0.jsonl.gz has 14242 lines\nfile data/java/java/final/jsonl/test/java_test_0.jsonl.gz has 26909 lines\nfile data/java/java/final/jsonl/train/java_train_0.jsonl.gz has 30000 lines\nfile data/java/java/final/jsonl/train/java_train_1.jsonl.gz has 30000 lines\nfile data/java/java/final/jsonl/train/java_train_10.jsonl.gz has 30000 lines\nfile data/java/java/final/jsonl/train/java_train_11.jsonl.gz has 30000 lines\nfile data/java/java/final/jsonl/train/java_train_12.jsonl.gz has 30000 lines\nfile data/java/java/final/jsonl/train/java_train_13.jsonl.gz has 30000 lines\nfile data/java/java/final/jsonl/train/java_train_14.jsonl.gz has 30000 lines\nfile data/java/java/final/jsonl/train/java_train_15.jsonl.gz has 4451 lines\nfile data/java/java/final/jsonl/train/java_train_2.jsonl.gz has 30000 lines\nfile data/java/java/final/jsonl/train/java_train_3.jsonl.gz has 30000 lines\nfile data/java/java/final/jsonl/train/java_train_4.jsonl.gz has 30000 lines\nfile data/java/java/final/jsonl/train/java_train_5.jsonl.gz has 30000 lines\nfile data/java/java/final/jsonl/train/java_train_6.jsonl.gz has 30000 lines\nfile data/java/java/final/jsonl/train/java_train_7.jsonl.gz has 30000 lines\nfile data/java/java/final/jsonl/train/java_train_8.jsonl.gz has 30000 lines\nfile data/java/java/final/jsonl/train/java_train_9.jsonl.gz has 30000 lines\nfile data/java/java/final/jsonl/valid/java_valid_0.jsonl.gz has 15328 lines\nfile data/javascript/javascript/final/jsonl/test/javascript_test_0.jsonl.gz has 6483 lines\nfile data/javascript/javascript/final/jsonl/train/javascript_train_0.jsonl.gz has 30000 lines\nfile data/javascript/javascript/final/jsonl/train/javascript_train_1.jsonl.gz has 30000 lines\nfile data/javascript/javascript/final/jsonl/train/javascript_train_2.jsonl.gz has 30000 lines\nfile data/javascript/javascript/final/jsonl/train/javascript_train_3.jsonl.gz has 30000 lines\nfile data/javascript/javascript/final/jsonl/train/javascript_train_4.jsonl.gz has 3889 lines\nfile data/javascript/javascript/final/jsonl/valid/javascript_valid_0.jsonl.gz has 8253 lines\nfile data/php/php/final/jsonl/test/php_test_0.jsonl.gz has 28391 lines\nfile data/php/php/final/jsonl/train/php_train_0.jsonl.gz has 30000 lines\nfile data/php/php/final/jsonl/train/php_train_1.jsonl.gz has 30000 lines\nfile data/php/php/final/jsonl/train/php_train_10.jsonl.gz has 30000 lines\nfile data/php/php/final/jsonl/train/php_train_11.jsonl.gz has 30000 lines\nfile data/php/php/final/jsonl/train/php_train_12.jsonl.gz has 30000 lines\nfile data/php/php/final/jsonl/train/php_train_13.jsonl.gz has 30000 lines\nfile data/php/php/final/jsonl/train/php_train_14.jsonl.gz has 30000 lines\nfile data/php/php/final/jsonl/train/php_train_15.jsonl.gz has 30000 lines\nfile data/php/php/final/jsonl/train/php_train_16.jsonl.gz has 30000 lines\nfile data/php/php/final/jsonl/train/php_train_17.jsonl.gz has 13712 lines\nfile data/php/php/final/jsonl/train/php_train_2.jsonl.gz has 30000 lines\nfile data/php/php/final/jsonl/train/php_train_3.jsonl.gz has 30000 lines\nfile data/php/php/final/jsonl/train/php_train_4.jsonl.gz has 30000 lines\nfile data/php/php/final/jsonl/train/php_train_5.jsonl.gz has 30000 lines\nfile data/php/php/final/jsonl/train/php_train_6.jsonl.gz has 30000 lines\nfile data/php/php/final/jsonl/train/php_train_7.jsonl.gz has 30000 lines\nfile data/php/php/final/jsonl/train/php_train_8.jsonl.gz has 30000 lines\nfile data/php/php/final/jsonl/train/php_train_9.jsonl.gz has 30000 lines\nfile data/php/php/final/jsonl/valid/php_valid_0.jsonl.gz has 26015 lines\nfile data/python/python/final/jsonl/test/python_test_0.jsonl.gz has 22176 lines\nfile data/python/python/final/jsonl/train/python_train_0.jsonl.gz has 30000 lines\nfile data/python/python/final/jsonl/train/python_train_1.jsonl.gz has 30000 lines\nfile data/python/python/final/jsonl/train/python_train_10.jsonl.gz has 30000 lines\nfile data/python/python/final/jsonl/train/python_train_11.jsonl.gz has 30000 lines\nfile data/python/python/final/jsonl/train/python_train_12.jsonl.gz has 30000 lines\nfile data/python/python/final/jsonl/train/python_train_13.jsonl.gz has 22178 lines\nfile data/python/python/final/jsonl/train/python_train_2.jsonl.gz has 30000 lines\nfile data/python/python/final/jsonl/train/python_train_3.jsonl.gz has 30000 lines\nfile data/python/python/final/jsonl/train/python_train_4.jsonl.gz has 30000 lines\nfile data/python/python/final/jsonl/train/python_train_5.jsonl.gz has 30000 lines\nfile data/python/python/final/jsonl/train/python_train_6.jsonl.gz has 30000 lines\nfile data/python/python/final/jsonl/train/python_train_7.jsonl.gz has 30000 lines\nfile data/python/python/final/jsonl/train/python_train_8.jsonl.gz has 30000 lines\nfile data/python/python/final/jsonl/train/python_train_9.jsonl.gz has 30000 lines\nfile data/python/python/final/jsonl/valid/python_valid_0.jsonl.gz has 23107 lines\nfile data/ruby/ruby/final/jsonl/test/ruby_test_0.jsonl.gz has 2279 lines\nfile data/ruby/ruby/final/jsonl/train/ruby_train_0.jsonl.gz has 30000 lines\nfile data/ruby/ruby/final/jsonl/train/ruby_train_1.jsonl.gz has 18791 lines\nfile data/ruby/ruby/final/jsonl/valid/ruby_valid_0.jsonl.gz has 2209 lines\n"
    }
   ],
   "source": [
    "import gzip\n",
    "import glob\n",
    "\n",
    "for path in glob.glob(\"**/*.jsonl.gz\", recursive=True):\n",
    "    with gzip.open(path, \"r\") as f:\n",
    "        print(f\"file {path} has {sum(1 for _ in f)} lines\")"
   ]
  },
  {
   "cell_type": "code",
   "execution_count": 9,
   "metadata": {},
   "outputs": [
    {
     "output_type": "execute_result",
     "data": {
      "text/plain": "{'repo': 'Shopify/kubernetes-deploy',\n 'path': 'lib/kubernetes-deploy/kubernetes_resource.rb',\n 'func_name': 'KubernetesDeploy.KubernetesResource.fetch_events',\n 'original_string': 'def fetch_events(kubectl)\\n      return {} unless exists?\\n      out, _err, st = kubectl.run(\"get\", \"events\", \"--output=go-template=#{Event.go_template_for(type, name)}\",\\n        log_failure: false)\\n      return {} unless st.success?\\n\\n      event_collector = Hash.new { |hash, key| hash[key] = [] }\\n      Event.extract_all_from_go_template_blob(out).each_with_object(event_collector) do |candidate, events|\\n        events[id] << candidate.to_s if candidate.seen_since?(@deploy_started_at - 5.seconds)\\n      end\\n    end',\n 'language': 'ruby',\n 'code': 'def fetch_events(kubectl)\\n      return {} unless exists?\\n      out, _err, st = kubectl.run(\"get\", \"events\", \"--output=go-template=#{Event.go_template_for(type, name)}\",\\n        log_failure: false)\\n      return {} unless st.success?\\n\\n      event_collector = Hash.new { |hash, key| hash[key] = [] }\\n      Event.extract_all_from_go_template_blob(out).each_with_object(event_collector) do |candidate, events|\\n        events[id] << candidate.to_s if candidate.seen_since?(@deploy_started_at - 5.seconds)\\n      end\\n    end',\n 'code_tokens': ['def',\n  'fetch_events',\n  '(',\n  'kubectl',\n  ')',\n  'return',\n  '{',\n  '}',\n  'unless',\n  'exists?',\n  'out',\n  ',',\n  '_err',\n  ',',\n  'st',\n  '=',\n  'kubectl',\n  '.',\n  'run',\n  '(',\n  '\"get\"',\n  ',',\n  '\"events\"',\n  ',',\n  '\"--output=go-template=#{Event.go_template_for(type, name)}\"',\n  ',',\n  'log_failure',\n  ':',\n  'false',\n  ')',\n  'return',\n  '{',\n  '}',\n  'unless',\n  'st',\n  '.',\n  'success?',\n  'event_collector',\n  '=',\n  'Hash',\n  '.',\n  'new',\n  '{',\n  '|',\n  'hash',\n  ',',\n  'key',\n  '|',\n  'hash',\n  '[',\n  'key',\n  ']',\n  '=',\n  '[',\n  ']',\n  '}',\n  'Event',\n  '.',\n  'extract_all_from_go_template_blob',\n  '(',\n  'out',\n  ')',\n  '.',\n  'each_with_object',\n  '(',\n  'event_collector',\n  ')',\n  'do',\n  '|',\n  'candidate',\n  ',',\n  'events',\n  '|',\n  'events',\n  '[',\n  'id',\n  ']',\n  '<<',\n  'candidate',\n  '.',\n  'to_s',\n  'if',\n  'candidate',\n  '.',\n  'seen_since?',\n  '(',\n  '@deploy_started_at',\n  '-',\n  '5',\n  '.',\n  'seconds',\n  ')',\n  'end',\n  'end'],\n 'docstring': 'Returns a hash in the following format:\\n {\\n   \"pod/web-1\" => [\\n     \"Pulling: pulling image \"hello-world:latest\" (1 events)\",\\n     \"Pulled: Successfully pulled image \"hello-world:latest\" (1 events)\"\\n   ]\\n }',\n 'docstring_tokens': ['Returns',\n  'a',\n  'hash',\n  'in',\n  'the',\n  'following',\n  'format',\n  ':',\n  '{',\n  'pod',\n  '/',\n  'web',\n  '-',\n  '1',\n  '=',\n  '>',\n  '[',\n  'Pulling',\n  ':',\n  'pulling',\n  'image',\n  'hello',\n  '-',\n  'world',\n  ':',\n  'latest',\n  '(',\n  '1',\n  'events',\n  ')',\n  'Pulled',\n  ':',\n  'Successfully',\n  'pulled',\n  'image',\n  'hello',\n  '-',\n  'world',\n  ':',\n  'latest',\n  '(',\n  '1',\n  'events',\n  ')',\n  ']',\n  '}'],\n 'sha': 'ab599ee9a4c1268d5a538a622a83160223fd916c',\n 'url': 'https://github.com/Shopify/kubernetes-deploy/blob/ab599ee9a4c1268d5a538a622a83160223fd916c/lib/kubernetes-deploy/kubernetes_resource.rb#L295-L305',\n 'partition': 'test'}"
     },
     "metadata": {},
     "execution_count": 9
    }
   ],
   "source": [
    "import json\n",
    "\n",
    "samp_py = next(iter(glob.glob(\"**/ruby*.jsonl.gz\", recursive=True)))\n",
    "with gzip.open(samp_py, \"r\") as f:\n",
    "    sample = next(iter(f))\n",
    "    sample_dict = json.loads(sample)\n",
    "sample_dict"
   ]
  },
  {
   "cell_type": "code",
   "execution_count": 31,
   "metadata": {},
   "outputs": [
    {
     "output_type": "execute_result",
     "data": {
      "text/plain": "('ruby', 'train', '0')"
     },
     "metadata": {},
     "execution_count": 31
    }
   ],
   "source": [
    "import re\n",
    "p = re.compile(\"([a-zA-Z]+)_([a-zA-Z]+)_([0-9]+).*\")\n",
    "p.match(\"ruby_train_0.jsonl.gz\").groups()"
   ]
  },
  {
   "cell_type": "code",
   "execution_count": 64,
   "metadata": {},
   "outputs": [],
   "source": [
    "x = slice(None,None,2)"
   ]
  },
  {
   "cell_type": "code",
   "execution_count": 65,
   "metadata": {},
   "outputs": [
    {
     "output_type": "execute_result",
     "data": {
      "text/plain": "['__class__',\n '__delattr__',\n '__dir__',\n '__doc__',\n '__eq__',\n '__format__',\n '__ge__',\n '__getattribute__',\n '__gt__',\n '__hash__',\n '__init__',\n '__init_subclass__',\n '__le__',\n '__lt__',\n '__ne__',\n '__new__',\n '__reduce__',\n '__reduce_ex__',\n '__repr__',\n '__setattr__',\n '__sizeof__',\n '__str__',\n '__subclasshook__',\n 'indices',\n 'start',\n 'step',\n 'stop']"
     },
     "metadata": {},
     "execution_count": 65
    }
   ],
   "source": [
    "dir(x)"
   ]
  },
  {
   "cell_type": "code",
   "execution_count": 66,
   "metadata": {},
   "outputs": [
    {
     "output_type": "execute_result",
     "data": {
      "text/plain": "(0, 99, 2)"
     },
     "metadata": {},
     "execution_count": 66
    }
   ],
   "source": [
    "x.indices(99)"
   ]
  },
  {
   "cell_type": "code",
   "execution_count": null,
   "metadata": {},
   "outputs": [],
   "source": []
  }
 ]
}